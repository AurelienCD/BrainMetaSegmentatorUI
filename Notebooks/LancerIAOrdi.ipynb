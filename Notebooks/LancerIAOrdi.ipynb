{
 "cells": [
  {
   "cell_type": "code",
   "execution_count": 1,
   "metadata": {
    "colab": {
     "base_uri": "https://localhost:8080/"
    },
    "id": "G5pZbw3sHSfb",
    "outputId": "a0f9a036-4d98-4e97-d993-496b82aea151"
   },
   "outputs": [
    {
     "name": "stdout",
     "output_type": "stream",
     "text": [
      "cuda\n"
     ]
    }
   ],
   "source": [
    "import numpy as np\n",
    "import torch\n",
    "#import torchvision\n",
    "import matplotlib.pyplot as plt\n",
    "%matplotlib inline\n",
    "\n",
    "device = torch.device('cuda' if torch.cuda.is_available() else 'cpu')\n",
    "print(device)\n"
   ]
  },
  {
   "cell_type": "code",
   "execution_count": 2,
   "metadata": {
    "colab": {
     "base_uri": "https://localhost:8080/"
    },
    "id": "geQvJeKINIub",
    "outputId": "4d4d34f4-7d40-4d70-ef1c-6ae42e9f0ad2"
   },
   "outputs": [
    {
     "name": "stdout",
     "output_type": "stream",
     "text": [
      " allTagDicom\t\t\t\t     DiceSpecSens_TrainValTest.ods\r\n",
      " ancien\t\t\t\t\t     EXEMPLE_dataset_0.json\r\n",
      " ApplicationUNETR.ipynb\t\t\t     LancerIAOrdi.ipynb\r\n",
      " ArtifactsRunAll6\t\t\t     meta\r\n",
      " BaseDonnée220Patients\t\t\t     metastase_IA\r\n",
      "'C79.3 2019-Mars2023_dataBasePatient.ods'    nifti_dataset\r\n",
      "'C79.3 2019-Mars2023_dataBasePatient.xlsx'   notebooks_archive\r\n",
      " colab-requirements.txt\t\t\t     requirements.txt\r\n",
      " config.yaml\t\t\t\t     RunALL6\r\n",
      " converteur.ipynb\t\t\t     script.bat\r\n",
      " datesDicom.py\t\t\t\t     unetr\r\n"
     ]
    }
   ],
   "source": [
    "! ls\n",
    "import monai"
   ]
  },
  {
   "cell_type": "code",
   "execution_count": 2,
   "metadata": {
    "colab": {
     "base_uri": "https://localhost:8080/"
    },
    "id": "KX39QJ8ez50A",
    "outputId": "a3ffcc58-dd57-4be9-99aa-8cf7c1a57906"
   },
   "outputs": [
    {
     "name": "stdout",
     "output_type": "stream",
     "text": [
      "Looking in links: https://download.pytorch.org/whl/torch_stable.html\n",
      "Requirement already satisfied: aiohttp==3.8.3 in /home/aurelien/anaconda3/lib/python3.9/site-packages (from -r requirements.txt (line 1)) (3.8.3)\n",
      "Requirement already satisfied: aiosignal==1.3.1 in /home/aurelien/anaconda3/lib/python3.9/site-packages (from -r requirements.txt (line 2)) (1.3.1)\n",
      "Requirement already satisfied: asttokens==2.1.0 in /home/aurelien/anaconda3/lib/python3.9/site-packages (from -r requirements.txt (line 3)) (2.1.0)\n",
      "Requirement already satisfied: async-timeout==4.0.2 in /home/aurelien/anaconda3/lib/python3.9/site-packages (from -r requirements.txt (line 4)) (4.0.2)\n",
      "Requirement already satisfied: attrs==22.1.0 in /home/aurelien/anaconda3/lib/python3.9/site-packages (from -r requirements.txt (line 5)) (22.1.0)\n",
      "Requirement already satisfied: backcall==0.2.0 in /home/aurelien/anaconda3/lib/python3.9/site-packages (from -r requirements.txt (line 6)) (0.2.0)\n",
      "Requirement already satisfied: certifi==2022.9.24 in /home/aurelien/anaconda3/lib/python3.9/site-packages (from -r requirements.txt (line 7)) (2022.9.24)\n",
      "Requirement already satisfied: charset-normalizer==2.1.1 in /home/aurelien/anaconda3/lib/python3.9/site-packages (from -r requirements.txt (line 8)) (2.1.1)\n",
      "Requirement already satisfied: cleo==0.8.1 in /home/aurelien/anaconda3/lib/python3.9/site-packages (from -r requirements.txt (line 9)) (0.8.1)\n",
      "Requirement already satisfied: click==8.1.3 in /home/aurelien/anaconda3/lib/python3.9/site-packages (from -r requirements.txt (line 10)) (8.1.3)\n",
      "Requirement already satisfied: clikit==0.6.2 in /home/aurelien/anaconda3/lib/python3.9/site-packages (from -r requirements.txt (line 11)) (0.6.2)\n",
      "Requirement already satisfied: colorama==0.4.6 in /home/aurelien/anaconda3/lib/python3.9/site-packages (from -r requirements.txt (line 12)) (0.4.6)\n",
      "Requirement already satisfied: contourpy==1.0.6 in /home/aurelien/anaconda3/lib/python3.9/site-packages (from -r requirements.txt (line 13)) (1.0.6)\n",
      "Requirement already satisfied: crashtest==0.3.1 in /home/aurelien/anaconda3/lib/python3.9/site-packages (from -r requirements.txt (line 14)) (0.3.1)\n",
      "Requirement already satisfied: cycler==0.11.0 in /home/aurelien/anaconda3/lib/python3.9/site-packages (from -r requirements.txt (line 15)) (0.11.0)\n",
      "Requirement already satisfied: dataclasses==0.6 in /home/aurelien/anaconda3/lib/python3.9/site-packages (from -r requirements.txt (line 16)) (0.6)\n",
      "Requirement already satisfied: dcmrtstruct2nii==2 in /home/aurelien/anaconda3/lib/python3.9/site-packages (from -r requirements.txt (line 17)) (2)\n",
      "Requirement already satisfied: debugpy==1.6.3 in /home/aurelien/anaconda3/lib/python3.9/site-packages (from -r requirements.txt (line 18)) (1.6.3)\n",
      "Requirement already satisfied: decorator==4.4.2 in /home/aurelien/anaconda3/lib/python3.9/site-packages (from -r requirements.txt (line 19)) (4.4.2)\n",
      "Requirement already satisfied: dicom2nifti==2.4.5 in /home/aurelien/anaconda3/lib/python3.9/site-packages (from -r requirements.txt (line 20)) (2.4.5)\n",
      "Requirement already satisfied: docker-pycreds==0.4.0 in /home/aurelien/anaconda3/lib/python3.9/site-packages (from -r requirements.txt (line 21)) (0.4.0)\n",
      "Requirement already satisfied: docstring-parser==0.15 in /home/aurelien/anaconda3/lib/python3.9/site-packages (from -r requirements.txt (line 22)) (0.15)\n",
      "Requirement already satisfied: einops==0.5.0 in /home/aurelien/anaconda3/lib/python3.9/site-packages (from -r requirements.txt (line 23)) (0.5.0)\n",
      "Requirement already satisfied: entrypoints==0.4 in /home/aurelien/anaconda3/lib/python3.9/site-packages (from -r requirements.txt (line 24)) (0.4)\n",
      "Requirement already satisfied: executing==1.2.0 in /home/aurelien/anaconda3/lib/python3.9/site-packages (from -r requirements.txt (line 25)) (1.2.0)\n",
      "Requirement already satisfied: fire==0.4.0 in /home/aurelien/anaconda3/lib/python3.9/site-packages (from -r requirements.txt (line 26)) (0.4.0)\n",
      "Requirement already satisfied: fonttools==4.38.0 in /home/aurelien/anaconda3/lib/python3.9/site-packages (from -r requirements.txt (line 27)) (4.38.0)\n",
      "Requirement already satisfied: frozenlist==1.3.3 in /home/aurelien/anaconda3/lib/python3.9/site-packages (from -r requirements.txt (line 28)) (1.3.3)\n",
      "Requirement already satisfied: fsspec==2022.11.0 in /home/aurelien/anaconda3/lib/python3.9/site-packages (from -r requirements.txt (line 29)) (2022.11.0)\n",
      "Requirement already satisfied: gitdb==4.0.9 in /home/aurelien/anaconda3/lib/python3.9/site-packages (from -r requirements.txt (line 30)) (4.0.9)\n",
      "Requirement already satisfied: GitPython==3.1.29 in /home/aurelien/anaconda3/lib/python3.9/site-packages (from -r requirements.txt (line 31)) (3.1.29)\n",
      "Requirement already satisfied: idna==3.4 in /home/aurelien/anaconda3/lib/python3.9/site-packages (from -r requirements.txt (line 32)) (3.4)\n",
      "Requirement already satisfied: ignite==1.1.0 in /home/aurelien/anaconda3/lib/python3.9/site-packages (from -r requirements.txt (line 33)) (1.1.0)\n",
      "Requirement already satisfied: imageio==2.22.4 in /home/aurelien/anaconda3/lib/python3.9/site-packages (from -r requirements.txt (line 34)) (2.22.4)\n",
      "Requirement already satisfied: imageio-ffmpeg==0.4.7 in /home/aurelien/anaconda3/lib/python3.9/site-packages (from -r requirements.txt (line 35)) (0.4.7)\n",
      "Requirement already satisfied: ipykernel==6.17.0 in /home/aurelien/anaconda3/lib/python3.9/site-packages (from -r requirements.txt (line 36)) (6.17.0)\n",
      "Requirement already satisfied: ipython==8.6.0 in /home/aurelien/anaconda3/lib/python3.9/site-packages (from -r requirements.txt (line 37)) (8.6.0)\n",
      "Requirement already satisfied: ipywidgets==8.0.2 in /home/aurelien/anaconda3/lib/python3.9/site-packages (from -r requirements.txt (line 38)) (8.0.2)\n",
      "Requirement already satisfied: jedi==0.18.1 in /home/aurelien/anaconda3/lib/python3.9/site-packages (from -r requirements.txt (line 39)) (0.18.1)\n",
      "Requirement already satisfied: joblib==1.2.0 in /home/aurelien/anaconda3/lib/python3.9/site-packages (from -r requirements.txt (line 40)) (1.2.0)\n",
      "Requirement already satisfied: jsonargparse==4.18.0 in /home/aurelien/anaconda3/lib/python3.9/site-packages (from -r requirements.txt (line 41)) (4.18.0)\n",
      "Requirement already satisfied: jupyter_client==7.4.4 in /home/aurelien/anaconda3/lib/python3.9/site-packages (from -r requirements.txt (line 42)) (7.4.4)\n",
      "Requirement already satisfied: jupyter_core==4.11.2 in /home/aurelien/anaconda3/lib/python3.9/site-packages (from -r requirements.txt (line 43)) (4.11.2)\n",
      "Requirement already satisfied: jupyterlab-widgets==3.0.3 in /home/aurelien/anaconda3/lib/python3.9/site-packages (from -r requirements.txt (line 44)) (3.0.3)\n",
      "Requirement already satisfied: kiwisolver==1.4.4 in /home/aurelien/anaconda3/lib/python3.9/site-packages (from -r requirements.txt (line 45)) (1.4.4)\n",
      "Requirement already satisfied: lightning-utilities==0.3.0 in /home/aurelien/anaconda3/lib/python3.9/site-packages (from -r requirements.txt (line 46)) (0.3.0)\n",
      "Requirement already satisfied: matplotlib==3.6.2 in /home/aurelien/anaconda3/lib/python3.9/site-packages (from -r requirements.txt (line 47)) (3.6.2)\n",
      "Requirement already satisfied: matplotlib-inline==0.1.6 in /home/aurelien/anaconda3/lib/python3.9/site-packages (from -r requirements.txt (line 48)) (0.1.6)\n",
      "Collecting monai==0.7.0\n",
      "  Using cached monai-0.7.0-202109240007-py3-none-any.whl (650 kB)\n",
      "Requirement already satisfied: moviepy==1.0.3 in /home/aurelien/anaconda3/lib/python3.9/site-packages (from -r requirements.txt (line 50)) (1.0.3)\n",
      "Requirement already satisfied: multidict==6.0.2 in /home/aurelien/anaconda3/lib/python3.9/site-packages (from -r requirements.txt (line 51)) (6.0.2)\n",
      "Requirement already satisfied: nest-asyncio==1.5.6 in /home/aurelien/anaconda3/lib/python3.9/site-packages (from -r requirements.txt (line 52)) (1.5.6)\n",
      "Requirement already satisfied: networkx==2.8.8 in /home/aurelien/anaconda3/lib/python3.9/site-packages (from -r requirements.txt (line 53)) (2.8.8)\n",
      "Requirement already satisfied: nibabel==4.0.2 in /home/aurelien/anaconda3/lib/python3.9/site-packages (from -r requirements.txt (line 54)) (4.0.2)\n",
      "Requirement already satisfied: numpy==1.23.4 in /home/aurelien/anaconda3/lib/python3.9/site-packages (from -r requirements.txt (line 55)) (1.23.4)\n",
      "Requirement already satisfied: opencv-python==4.6.0.66 in /home/aurelien/anaconda3/lib/python3.9/site-packages (from -r requirements.txt (line 56)) (4.6.0.66)\n",
      "Requirement already satisfied: packaging==21.3 in /home/aurelien/anaconda3/lib/python3.9/site-packages (from -r requirements.txt (line 57)) (21.3)\n",
      "Requirement already satisfied: pandas==1.5.1 in /home/aurelien/anaconda3/lib/python3.9/site-packages (from -r requirements.txt (line 58)) (1.5.1)\n",
      "Requirement already satisfied: parso==0.8.3 in /home/aurelien/anaconda3/lib/python3.9/site-packages (from -r requirements.txt (line 59)) (0.8.3)\n",
      "Requirement already satisfied: pastel==0.2.1 in /home/aurelien/anaconda3/lib/python3.9/site-packages (from -r requirements.txt (line 60)) (0.2.1)\n",
      "Requirement already satisfied: pathtools==0.1.2 in /home/aurelien/anaconda3/lib/python3.9/site-packages (from -r requirements.txt (line 61)) (0.1.2)\n",
      "Requirement already satisfied: pickleshare==0.7.5 in /home/aurelien/anaconda3/lib/python3.9/site-packages (from -r requirements.txt (line 62)) (0.7.5)\n",
      "Requirement already satisfied: Pillow==9.3.0 in /home/aurelien/anaconda3/lib/python3.9/site-packages (from -r requirements.txt (line 63)) (9.3.0)\n",
      "Requirement already satisfied: proglog==0.1.10 in /home/aurelien/anaconda3/lib/python3.9/site-packages (from -r requirements.txt (line 64)) (0.1.10)\n",
      "Requirement already satisfied: promise==2.3 in /home/aurelien/anaconda3/lib/python3.9/site-packages (from -r requirements.txt (line 65)) (2.3)\n",
      "Requirement already satisfied: prompt-toolkit==3.0.32 in /home/aurelien/anaconda3/lib/python3.9/site-packages (from -r requirements.txt (line 66)) (3.0.32)\n",
      "Requirement already satisfied: protobuf==3.20.3 in /home/aurelien/anaconda3/lib/python3.9/site-packages (from -r requirements.txt (line 67)) (3.20.3)\n",
      "Requirement already satisfied: psutil==5.9.3 in /home/aurelien/anaconda3/lib/python3.9/site-packages (from -r requirements.txt (line 68)) (5.9.3)\n",
      "Requirement already satisfied: pure-eval==0.2.2 in /home/aurelien/anaconda3/lib/python3.9/site-packages (from -r requirements.txt (line 69)) (0.2.2)\n",
      "Requirement already satisfied: pydicom==2.3.0 in /home/aurelien/anaconda3/lib/python3.9/site-packages (from -r requirements.txt (line 70)) (2.3.0)\n",
      "Requirement already satisfied: Pygments==2.13.0 in /home/aurelien/anaconda3/lib/python3.9/site-packages (from -r requirements.txt (line 71)) (2.13.0)\n",
      "Requirement already satisfied: pylev==1.4.0 in /home/aurelien/anaconda3/lib/python3.9/site-packages (from -r requirements.txt (line 72)) (1.4.0)\n",
      "Requirement already satisfied: pyparsing==3.0.9 in /home/aurelien/anaconda3/lib/python3.9/site-packages (from -r requirements.txt (line 73)) (3.0.9)\n",
      "Requirement already satisfied: python-dateutil==2.8.2 in /home/aurelien/anaconda3/lib/python3.9/site-packages (from -r requirements.txt (line 74)) (2.8.2)\n",
      "Requirement already satisfied: python-gdcm==3.0.19 in /home/aurelien/anaconda3/lib/python3.9/site-packages (from -r requirements.txt (line 75)) (3.0.19)\n"
     ]
    },
    {
     "name": "stdout",
     "output_type": "stream",
     "text": [
      "Collecting pytorch-ignite==0.4.5\n",
      "  Using cached pytorch_ignite-0.4.5-py3-none-any.whl (221 kB)\n",
      "Requirement already satisfied: pytorch-lightning==1.8.3 in /home/aurelien/anaconda3/lib/python3.9/site-packages (from -r requirements.txt (line 77)) (1.8.3)\n",
      "Requirement already satisfied: pytz==2022.6 in /home/aurelien/anaconda3/lib/python3.9/site-packages (from -r requirements.txt (line 78)) (2022.6)\n",
      "Requirement already satisfied: PyWavelets==1.4.1 in /home/aurelien/anaconda3/lib/python3.9/site-packages (from -r requirements.txt (line 79)) (1.4.1)\n",
      "Requirement already satisfied: PyYAML==6.0 in /home/aurelien/anaconda3/lib/python3.9/site-packages (from -r requirements.txt (line 80)) (6.0)\n",
      "Requirement already satisfied: pyzmq==24.0.1 in /home/aurelien/anaconda3/lib/python3.9/site-packages (from -r requirements.txt (line 81)) (24.0.1)\n",
      "Requirement already satisfied: requests==2.28.1 in /home/aurelien/anaconda3/lib/python3.9/site-packages (from -r requirements.txt (line 82)) (2.28.1)\n",
      "Requirement already satisfied: rt-utils==1.2.5 in /home/aurelien/anaconda3/lib/python3.9/site-packages (from -r requirements.txt (line 83)) (1.2.5)\n",
      "Requirement already satisfied: scikit-image==0.19.3 in /home/aurelien/anaconda3/lib/python3.9/site-packages (from -r requirements.txt (line 84)) (0.19.3)\n",
      "Requirement already satisfied: scikit-learn==1.1.3 in /home/aurelien/anaconda3/lib/python3.9/site-packages (from -r requirements.txt (line 85)) (1.1.3)\n",
      "Requirement already satisfied: scipy==1.9.3 in /home/aurelien/anaconda3/lib/python3.9/site-packages (from -r requirements.txt (line 86)) (1.9.3)\n",
      "Requirement already satisfied: seaborn==0.12.1 in /home/aurelien/anaconda3/lib/python3.9/site-packages (from -r requirements.txt (line 87)) (0.12.1)\n",
      "Requirement already satisfied: sentry-sdk==1.11.1 in /home/aurelien/anaconda3/lib/python3.9/site-packages (from -r requirements.txt (line 88)) (1.11.1)\n",
      "Requirement already satisfied: setproctitle==1.3.2 in /home/aurelien/anaconda3/lib/python3.9/site-packages (from -r requirements.txt (line 89)) (1.3.2)\n",
      "Requirement already satisfied: shortuuid==1.0.11 in /home/aurelien/anaconda3/lib/python3.9/site-packages (from -r requirements.txt (line 90)) (1.0.11)\n",
      "Requirement already satisfied: SimpleITK==2.2.0 in /home/aurelien/anaconda3/lib/python3.9/site-packages (from -r requirements.txt (line 91)) (2.2.0)\n",
      "Requirement already satisfied: six==1.16.0 in /home/aurelien/anaconda3/lib/python3.9/site-packages (from -r requirements.txt (line 92)) (1.16.0)\n",
      "Requirement already satisfied: smmap==5.0.0 in /home/aurelien/anaconda3/lib/python3.9/site-packages (from -r requirements.txt (line 93)) (5.0.0)\n",
      "Requirement already satisfied: stack-data==0.6.0 in /home/aurelien/anaconda3/lib/python3.9/site-packages (from -r requirements.txt (line 94)) (0.6.0)\n",
      "Requirement already satisfied: tensorboardX==2.5 in /home/aurelien/anaconda3/lib/python3.9/site-packages (from -r requirements.txt (line 95)) (2.5)\n",
      "Requirement already satisfied: termcolor==2.1.1 in /home/aurelien/anaconda3/lib/python3.9/site-packages (from -r requirements.txt (line 96)) (2.1.1)\n",
      "Requirement already satisfied: threadpoolctl==3.1.0 in /home/aurelien/anaconda3/lib/python3.9/site-packages (from -r requirements.txt (line 97)) (3.1.0)\n",
      "Requirement already satisfied: tifffile==2022.10.10 in /home/aurelien/anaconda3/lib/python3.9/site-packages (from -r requirements.txt (line 98)) (2022.10.10)\n",
      "Requirement already satisfied: torch==1.9.1+cu111 in /home/aurelien/anaconda3/lib/python3.9/site-packages (from -r requirements.txt (line 99)) (1.9.1+cu111)\n",
      "Requirement already satisfied: torchaudio==0.9.1 in /home/aurelien/anaconda3/lib/python3.9/site-packages (from -r requirements.txt (line 100)) (0.9.1)\n",
      "Requirement already satisfied: torchmetrics==0.10.3 in /home/aurelien/anaconda3/lib/python3.9/site-packages (from -r requirements.txt (line 101)) (0.10.3)\n",
      "Requirement already satisfied: torchvision==0.10.1+cu111 in /home/aurelien/anaconda3/lib/python3.9/site-packages (from -r requirements.txt (line 102)) (0.10.1+cu111)\n",
      "Requirement already satisfied: tornado==6.2 in /home/aurelien/anaconda3/lib/python3.9/site-packages (from -r requirements.txt (line 103)) (6.2)\n",
      "Requirement already satisfied: tqdm==4.64.1 in /home/aurelien/anaconda3/lib/python3.9/site-packages (from -r requirements.txt (line 104)) (4.64.1)\n",
      "Requirement already satisfied: traitlets==5.5.0 in /home/aurelien/anaconda3/lib/python3.9/site-packages (from -r requirements.txt (line 105)) (5.5.0)\n",
      "Requirement already satisfied: typing_extensions==4.4.0 in /home/aurelien/anaconda3/lib/python3.9/site-packages (from -r requirements.txt (line 106)) (4.4.0)\n",
      "Requirement already satisfied: urllib3==1.26.12 in /home/aurelien/anaconda3/lib/python3.9/site-packages (from -r requirements.txt (line 107)) (1.26.12)\n",
      "Requirement already satisfied: wandb==0.13.5 in /home/aurelien/anaconda3/lib/python3.9/site-packages (from -r requirements.txt (line 108)) (0.13.5)\n",
      "Requirement already satisfied: wcwidth==0.2.5 in /home/aurelien/anaconda3/lib/python3.9/site-packages (from -r requirements.txt (line 109)) (0.2.5)\n",
      "Requirement already satisfied: widgetsnbextension==4.0.3 in /home/aurelien/anaconda3/lib/python3.9/site-packages (from -r requirements.txt (line 110)) (4.0.3)\n",
      "Requirement already satisfied: wrapt==1.14.1 in /home/aurelien/anaconda3/lib/python3.9/site-packages (from -r requirements.txt (line 111)) (1.14.1)\n",
      "Requirement already satisfied: yarl==1.8.1 in /home/aurelien/anaconda3/lib/python3.9/site-packages (from -r requirements.txt (line 112)) (1.8.1)\n",
      "Requirement already satisfied: pexpect>4.3 in /home/aurelien/anaconda3/lib/python3.9/site-packages (from ipython==8.6.0->-r requirements.txt (line 37)) (4.8.0)\n",
      "Requirement already satisfied: setuptools in /home/aurelien/anaconda3/lib/python3.9/site-packages (from nibabel==4.0.2->-r requirements.txt (line 54)) (66.0.0)\n",
      "Requirement already satisfied: ptyprocess>=0.5 in /home/aurelien/anaconda3/lib/python3.9/site-packages (from pexpect>4.3->ipython==8.6.0->-r requirements.txt (line 37)) (0.7.0)\n",
      "Installing collected packages: pytorch-ignite, monai\n",
      "  Attempting uninstall: pytorch-ignite\n",
      "    Found existing installation: pytorch-ignite 0.4.11\n",
      "    Uninstalling pytorch-ignite-0.4.11:\n",
      "      Successfully uninstalled pytorch-ignite-0.4.11\n",
      "Successfully installed monai-0.7.0 pytorch-ignite-0.4.5\n"
     ]
    }
   ],
   "source": [
    "!pip install -r requirements.txt -f https://download.pytorch.org/whl/torch_stable.html"
   ]
  },
  {
   "cell_type": "code",
   "execution_count": null,
   "metadata": {
    "colab": {
     "base_uri": "https://localhost:8080/"
    },
    "id": "nfp1byGdeovE",
    "outputId": "ff471f46-597c-4328-bd3a-2ea77b61d195",
    "scrolled": true
   },
   "outputs": [
    {
     "name": "stdout",
     "output_type": "stream",
     "text": [
      " allTagDicom\t\t\t\t     DiceSpecSens_TrainValTest.ods\n",
      " ancien\t\t\t\t\t     EXEMPLE_dataset_0.json\n",
      " ApplicationUNETR.ipynb\t\t\t     LancerIAOrdi.ipynb\n",
      " ArtifactsRunAll6\t\t\t     meta\n",
      " BaseDonnée220Patients\t\t\t     metastase_IA\n",
      "'C79.3 2019-Mars2023_dataBasePatient.ods'    nifti_dataset\n",
      "'C79.3 2019-Mars2023_dataBasePatient.xlsx'   notebooks_archive\n",
      " colab-requirements.txt\t\t\t     requirements.txt\n",
      " config.yaml\t\t\t\t     RunALL6\n",
      " converteur.ipynb\t\t\t     script.bat\n",
      " datesDicom.py\t\t\t\t     unetr\n",
      "Global seed set to 3772793873\n",
      "\u001b[34m\u001b[1mwandb\u001b[0m: Tracking run with wandb version 0.13.5\n",
      "\u001b[34m\u001b[1mwandb\u001b[0m: W&B syncing is set to \u001b[1m`offline`\u001b[0m in this directory.  \n",
      "\u001b[34m\u001b[1mwandb\u001b[0m: Run \u001b[1m`wandb online`\u001b[0m or set \u001b[1mWANDB_MODE=online\u001b[0m to enable cloud syncing.\n",
      "GPU available: True (cuda), used: True\n",
      "TPU available: False, using: 0 TPU cores\n",
      "IPU available: False, using: 0 IPUs\n",
      "HPU available: False, using: 0 HPUs\n",
      "le dict of indice {'training': ['201905984', '202209914', '202106842', '202006980', '202006391', '202000265', '202001838', '202301719', '201805382', '201900570', '201905202', '202006860', '202109581', '202003170', '202104352', '202103567', '202109494', '201709600', '202101477', '202205049', '201908838', '202007813', '201800255', '201910720', '202209468', '201904653', '202100606', '202111404', '201807688', '202007664', '202109865', '202000317', '202005507', '202211566', '201903761', '202101257', '202211870', '201906247', '202103577', '202210668', '202107795', '202101156', '201811269', '202211115', '202009111', '201907330', '202101013', '201908578', '202007818', '202110980', '201802539', '202204298', '202003115', '202107026', '202201119', '202000434', '202008248', '201903909', '201803717', '201902137', '201910386', '202201729', '202108526', '201902626', '202107635', '201709668', '202201953', '202109096', '201909977', '202007788', '201801714', '202000058', '201709127', '201906013', '202007259', '202008519', '202007567', '201811315', '202210811', '202100421', '202102519', '202000786', '202004291', '202106952', '202009314', '202004243', '201907929', '201705438', '202302255', '202200631', '202009263', '202010127', '202001406', '201904748', '201909209', '201805232', '201902214', '201907807', '202206410', '202102005', '201903815', '202200605', '201900306', '201905925', '202102031', '202008999', '201902677', '202003571', '202203705', '201707259', '201910057', '201906445', '202003741', '201911814', '202108484', '201808172', '202004361', '202107360', '202202573', '201709795', '202103832', '202204081', '201800561', '202002006', '202100209', '202004478', '202100413', '201901748', '202000621', '202003501', '201909889', '202101839', '201910986', '202107484', '201906053', '201905116', '202103328', '201903055', '202000528', '202100053', '201805406', '202105893', '202204763', '202002991', '201912185', '202202830', '202301573', '201806863'], 'validation': ['201909400', '201804538', '201908950', '202207102', '202103507', '202003575', '201704321', '201908961', '201903680', '201907839', '202001109', '202009206', '202009597', '202004381', '201802098', '202111509', '201908072', '202109911', '202102204', '202009393', '202208718'], 'testing': ['201805301', '201900684', '202102289', '202007862', '202010465', '202003581', '202100762', '201810276', '201705956', '201800324', '201803126', '202007128', '201906110', '202109864', '202301575', '201811096', '201905003', '201708552', '201810173', '201909365', '201904239', '201908633', '202004289', '201800497', '201904192', '202106948', '202002026', '201902158', '202009839', '202208283', '202004607', '201900682', '202104276', '202107193', '201908264', '201805117', '202209288', '202211130', '202006665', '202108552']}\n",
      "les datasets <meta.data.dataset.MetaSubset object at 0x7f287e986d00> <meta.data.dataset.MetaSubset object at 0x7f287e986c70> <meta.data.dataset.MetaSubset object at 0x7f287e986be0>\n",
      "LOCAL_RANK: 0 - CUDA_VISIBLE_DEVICES: [0,1]\n",
      "\n",
      "  | Name     | Type        | Params\n",
      "-----------------------------------------\n",
      "0 | model    | UNETR       | 92.8 M\n",
      "1 | backbone | Sequential  | 92.8 M\n",
      "2 | loss_fn  | DiceBCELoss | 0     \n",
      "-----------------------------------------\n",
      "34        Trainable params\n",
      "92.8 M    Non-trainable params\n",
      "92.8 M    Total params\n",
      "371.163   Total estimated model params size (MB)\n",
      "Epoch 10/3000 -> ['202202830', '202101257', '202101013', '202006391']:  83%|▊| 1\n",
      "Validation: 0it [00:00, ?it/s]\u001b[A\n",
      "Validation:   0%|                                         | 0/2 [00:00<?, ?it/s]\u001b[A\n",
      "Validation DataLoader 0:   0%|                            | 0/2 [00:00<?, ?it/s]\u001b[A\n",
      "Epoch 10/3000 -> ['202202830', '202101257', '202101013', '202006391']:  92%|▉| 1\u001b[A\n",
      "Epoch 10/3000 -> ['202202830', '202101257', '202101013', '202006391']: 100%|█| 1\u001b[A\n",
      "Epoch 20/3000 -> ['202204298', '202003501', '202109096', '201910720']:  83%|▊| 1\u001b[A\n",
      "Validation: 0it [00:00, ?it/s]\u001b[A\n",
      "Validation:   0%|                                         | 0/2 [00:00<?, ?it/s]\u001b[A\n",
      "Validation DataLoader 0:   0%|                            | 0/2 [00:00<?, ?it/s]\u001b[A\n",
      "Epoch 20/3000 -> ['202204298', '202003501', '202109096', '201910720']:  92%|▉| 1\u001b[A\n",
      "Epoch 20/3000 -> ['202204298', '202003501', '202109096', '201910720']: 100%|█| 1\u001b[A\n",
      "Epoch 30/3000 -> ['202000621', '202100053', '202101257', '201910720']:  83%|▊| 1\u001b[A\n",
      "Validation: 0it [00:00, ?it/s]\u001b[A\n",
      "Validation:   0%|                                         | 0/2 [00:00<?, ?it/s]\u001b[A\n",
      "Validation DataLoader 0:   0%|                            | 0/2 [00:00<?, ?it/s]\u001b[A\n",
      "Epoch 30/3000 -> ['202000621', '202100053', '202101257', '201910720']:  92%|▉| 1\u001b[A\n",
      "Epoch 30/3000 -> ['202000621', '202100053', '202101257', '201910720']: 100%|█| 1\u001b[A\n",
      "Epoch 40/3000 -> ['202200605', '202006980', '202111404', '201906013']:  83%|▊| 1\u001b[A\n",
      "Validation: 0it [00:00, ?it/s]\u001b[A\n",
      "Validation:   0%|                                         | 0/2 [00:00<?, ?it/s]\u001b[A\n",
      "Validation DataLoader 0:   0%|                            | 0/2 [00:00<?, ?it/s]\u001b[A\n",
      "Epoch 40/3000 -> ['202200605', '202006980', '202111404', '201906013']:  92%|▉| 1\u001b[A\n",
      "Epoch 40/3000 -> ['202200605', '202006980', '202111404', '201906013']: 100%|█| 1\u001b[A\n",
      "Epoch 50/3000 -> ['202106952', '202100053', '202210811', '202003170']:  83%|▊| 1\u001b[A\n",
      "Validation: 0it [00:00, ?it/s]\u001b[A\n",
      "Validation:   0%|                                         | 0/2 [00:00<?, ?it/s]\u001b[A\n",
      "Validation DataLoader 0:   0%|                            | 0/2 [00:00<?, ?it/s]\u001b[A\n",
      "Epoch 50/3000 -> ['202106952', '202100053', '202210811', '202003170']:  92%|▉| 1\u001b[A\n",
      "Epoch 50/3000 -> ['202106952', '202100053', '202210811', '202003170']: 100%|█| 1\u001b[A\n",
      "Epoch 60/3000 -> ['202010127', '201910720', '202210811', '201906445']:  83%|▊| 1\u001b[A\n",
      "Validation: 0it [00:00, ?it/s]\u001b[A\n",
      "Validation:   0%|                                         | 0/2 [00:00<?, ?it/s]\u001b[A\n",
      "Validation DataLoader 0:   0%|                            | 0/2 [00:00<?, ?it/s]\u001b[A\n",
      "Epoch 60/3000 -> ['202010127', '201910720', '202210811', '201906445']:  92%|▉| 1\u001b[A\n",
      "Epoch 60/3000 -> ['202010127', '201910720', '202210811', '201906445']: 100%|█| 1\u001b[A\n",
      "Epoch 62:   0%|                  | 0/10 [00:00<?, ?it/s, loss=0.448, v_num=9cxc]\u001b[A"
     ]
    }
   ],
   "source": [
    "%matplotlib inline\n",
    "import os\n",
    "import json\n",
    "\n",
    "\n",
    "!ls\n",
    "#permet de load les artefacts en dehors de cet ordinateur (nom modifiable)\n",
    "os.environ[\"WANDB_CACHE_DIR\"]=\"ArtifactsT\"\n",
    "#desactive l'enregistrement dans wandb \n",
    "os.environ[\"WANDB_DISABLED\"]=\"true\"\n",
    "!python unetr/cli.py -c config.yaml fit --trainer.logger.name=\"RunT\" --data.data_dir=\"nifti_dataset\" --data.train_batch_size=16 --data.workers=8 --data.val_batch_size=16\n"
   ]
  },
  {
   "cell_type": "code",
   "execution_count": 2,
   "metadata": {
    "scrolled": true
   },
   "outputs": [
    {
     "name": "stdout",
     "output_type": "stream",
     "text": [
      " ApplicationUNETR.ipynb\t\t\t     LancerIAOrdi.ipynb\n",
      " ArtifactsRunAll4\t\t\t     meta\n",
      " ArtifactsRunAll5\t\t\t     metastase_IA.zip\n",
      " assets\t\t\t\t\t     nifti_dataset\n",
      " BaseDonnée220Patients\t\t\t     nifti_datasetNormalise\n",
      " baseDonneeTest\t\t\t\t     niftiTest\n",
      "'C79.3 2019-Mars2023_dataBasePatient.ods'    NonEnCoursVerif\n",
      "'C79.3 2019-Mars2023_dataBasePatient.xlsx'   NonVerif\n",
      " colab-requirements.txt\t\t\t     normalizationIRM.ipynb\n",
      " config2.yaml\t\t\t\t     notebooks\n",
      " config.yaml\t\t\t\t     requirements.txt\n",
      " converteurAllFileinPatientDir.ipynb\t     result\n",
      " converteur.ipynb\t\t\t     Run4Model.ckpt\n",
      "'Correction à faire'\t\t\t     RunAll4\n",
      " dataset_0.json\t\t\t\t     RunAll4.zip\n",
      " DiceSpecSens_TrainValTest.ods\t\t     RunTestAll\n",
      " dicomTest\t\t\t\t     script.bat\n",
      " dict_object.json\t\t\t     test_pipeline.bat\n",
      " fichierNomsMetas.txt\t\t\t     unetr\n",
      "'LancerIAOrdi (copie).ipynb'\t\t    'unetr (copie)'\n",
      "Global seed set to 2517685348\n",
      "\u001b[34m\u001b[1mwandb\u001b[0m: Tracking run with wandb version 0.13.5\n",
      "\u001b[34m\u001b[1mwandb\u001b[0m: W&B syncing is set to \u001b[1m`offline`\u001b[0m in this directory.  \n",
      "\u001b[34m\u001b[1mwandb\u001b[0m: Run \u001b[1m`wandb online`\u001b[0m or set \u001b[1mWANDB_MODE=online\u001b[0m to enable cloud syncing.\n",
      "GPU available: True (cuda), used: True\n",
      "TPU available: False, using: 0 TPU cores\n",
      "IPU available: False, using: 0 IPUs\n",
      "HPU available: False, using: 0 HPUs\n",
      "LOCAL_RANK: 0 - CUDA_VISIBLE_DEVICES: [0,1]\n",
      "\n",
      "  | Name     | Type        | Params\n",
      "-----------------------------------------\n",
      "0 | model    | UNETR       | 92.8 M\n",
      "1 | backbone | Sequential  | 92.8 M\n",
      "2 | loss_fn  | DiceBCELoss | 0     \n",
      "-----------------------------------------\n",
      "34        Trainable params\n",
      "92.8 M    Non-trainable params\n",
      "92.8 M    Total params\n",
      "371.163   Total estimated model params size (MB)\n",
      "Epoch 10/3000 -> ['201910720']:  50%|▌| 1/2 [00:13<00:13, 13.45s/it, loss=1.3, v\n",
      "Validation: 0it [00:00, ?it/s]\u001b[A\n",
      "Validation:   0%|                                         | 0/1 [00:00<?, ?it/s]\u001b[A\n",
      "Validation DataLoader 0:   0%|                            | 0/1 [00:00<?, ?it/s]\u001b[A\n",
      "Epoch 10/3000 -> ['201910720']: 100%|█| 2/2 [00:18<00:00,  9.00s/it, loss=1.3, v\u001b[A\n",
      "Epoch 20/3000 -> ['201910720']:  50%|▌| 1/2 [00:13<00:13, 13.50s/it, loss=1.3, v\u001b[A\n",
      "Validation: 0it [00:00, ?it/s]\u001b[A\n",
      "Validation:   0%|                                         | 0/1 [00:00<?, ?it/s]\u001b[A\n",
      "Validation DataLoader 0:   0%|                            | 0/1 [00:00<?, ?it/s]\u001b[A\n",
      "Epoch 20/3000 -> ['201910720']: 100%|█| 2/2 [00:18<00:00,  9.12s/it, loss=1.3, v\u001b[A\n",
      "Epoch 30/3000 -> ['201910720']:  50%|▌| 1/2 [00:13<00:13, 13.56s/it, loss=1.3, v\u001b[A\n",
      "Validation: 0it [00:00, ?it/s]\u001b[A\n",
      "Validation:   0%|                                         | 0/1 [00:00<?, ?it/s]\u001b[A\n",
      "Validation DataLoader 0:   0%|                            | 0/1 [00:00<?, ?it/s]\u001b[A\n",
      "Epoch 30/3000 -> ['201910720']: 100%|█| 2/2 [00:18<00:00,  9.18s/it, loss=1.3, v\u001b[A\n",
      "Epoch 37/3000 -> ['201910720']:   0%| | 0/1 [00:03<?, ?it/s, loss=1.3, v_num=r4e\u001b[A^C\n"
     ]
    }
   ],
   "source": [
    "%matplotlib inline\n",
    "import os\n",
    "import json\n",
    "\n",
    "!ls\n",
    "os.environ[\"WANDB_CACHE_DIR\"]=\"ArtifactsNonNormaliser\"\n",
    "os.environ[\"WANDB_DISABLED\"]=\"true\"\n",
    "!python unetr/cli.py -c config.yaml fit --trainer.logger.name=\"RunTest0\" --data.data_dir=\"niftiTest\" --data.train_batch_size=16 --data.workers=8 --data.val_batch_size=16\n"
   ]
  }
 ],
 "metadata": {
  "accelerator": "GPU",
  "colab": {
   "provenance": []
  },
  "gpuClass": "standard",
  "kernelspec": {
   "display_name": "Python 3 (ipykernel)",
   "language": "python",
   "name": "python3"
  },
  "language_info": {
   "codemirror_mode": {
    "name": "ipython",
    "version": 3
   },
   "file_extension": ".py",
   "mimetype": "text/x-python",
   "name": "python",
   "nbconvert_exporter": "python",
   "pygments_lexer": "ipython3",
   "version": "3.9.16"
  }
 },
 "nbformat": 4,
 "nbformat_minor": 1
}
